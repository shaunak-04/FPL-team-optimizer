{
 "cells": [
  {
   "cell_type": "code",
   "execution_count": 1,
   "id": "277f5e97",
   "metadata": {},
   "outputs": [
    {
     "name": "stdout",
     "output_type": "stream",
     "text": [
      "<class 'pandas.core.frame.DataFrame'>\n",
      "RangeIndex: 27190 entries, 0 to 27189\n",
      "Data columns (total 43 columns):\n",
      " #   Column                      Non-Null Count  Dtype  \n",
      "---  ------                      --------------  -----  \n",
      " 0   season                      27190 non-null  object \n",
      " 1   gameweek                    27190 non-null  int64  \n",
      " 2   name                        27190 non-null  object \n",
      " 3   position                    27190 non-null  object \n",
      " 4   team                        27190 non-null  object \n",
      " 5   xP                          27190 non-null  float64\n",
      " 6   assists                     27190 non-null  int64  \n",
      " 7   bonus                       27190 non-null  int64  \n",
      " 8   bps                         27190 non-null  int64  \n",
      " 9   clean_sheets                27190 non-null  int64  \n",
      " 10  creativity                  27190 non-null  float64\n",
      " 11  element                     27190 non-null  int64  \n",
      " 12  fixture                     27190 non-null  int64  \n",
      " 13  goals_conceded              27190 non-null  int64  \n",
      " 14  goals_scored                27190 non-null  int64  \n",
      " 15  ict_index                   27190 non-null  float64\n",
      " 16  influence                   27190 non-null  float64\n",
      " 17  kickoff_time                27190 non-null  object \n",
      " 18  minutes                     27190 non-null  int64  \n",
      " 19  opponent_team               27190 non-null  int64  \n",
      " 20  own_goals                   27190 non-null  int64  \n",
      " 21  penalties_missed            27190 non-null  int64  \n",
      " 22  penalties_saved             27190 non-null  int64  \n",
      " 23  red_cards                   27190 non-null  int64  \n",
      " 24  round                       27190 non-null  int64  \n",
      " 25  saves                       27190 non-null  int64  \n",
      " 26  selected                    27190 non-null  int64  \n",
      " 27  team_a_score                27190 non-null  int64  \n",
      " 28  team_h_score                27190 non-null  int64  \n",
      " 29  threat                      27190 non-null  float64\n",
      " 30  total_points                27190 non-null  int64  \n",
      " 31  transfers_balance           27190 non-null  int64  \n",
      " 32  transfers_in                27190 non-null  int64  \n",
      " 33  transfers_out               27190 non-null  int64  \n",
      " 34  value                       27190 non-null  int64  \n",
      " 35  was_home                    27190 non-null  bool   \n",
      " 36  yellow_cards                27190 non-null  int64  \n",
      " 37  expected_assists            27190 non-null  float64\n",
      " 38  expected_goal_involvements  27190 non-null  float64\n",
      " 39  expected_goals              27190 non-null  float64\n",
      " 40  expected_goals_conceded     27190 non-null  float64\n",
      " 41  starts                      27190 non-null  float64\n",
      " 42  future_points               27190 non-null  float64\n",
      "dtypes: bool(1), float64(11), int64(26), object(5)\n",
      "memory usage: 8.7+ MB\n"
     ]
    }
   ],
   "source": [
    "import pandas as pd\n",
    "df=pd.read_csv('fpl_def_data.csv')\n",
    "df.info()"
   ]
  },
  {
   "cell_type": "code",
   "execution_count": 1,
   "id": "abc3fd0c",
   "metadata": {},
   "outputs": [
    {
     "name": "stdout",
     "output_type": "stream",
     "text": [
      "✅ Feature engineering for DEF complete. New shape: (25473, 53)\n"
     ]
    }
   ],
   "source": [
    "import pandas as pd\n",
    "\n",
    "# Load data\n",
    "def_df = pd.read_csv(\"fpl_def_data.csv\")\n",
    "\n",
    "# Sort by player and gameweek for rolling features\n",
    "def_df = def_df.sort_values(by=['element', 'gameweek']).reset_index(drop=True)\n",
    "\n",
    "# Rolling metrics (3-match rolling window)\n",
    "rolling_cols = ['total_points', 'minutes', 'clean_sheets', 'goals_scored', 'assists']\n",
    "for col in rolling_cols:\n",
    "    def_df[f'{col}_last_3'] = def_df.groupby('element')[col].transform(lambda x: x.shift(1).rolling(window=3).mean())\n",
    "\n",
    "# Clean sheet ratio: clean_sheets / starts\n",
    "def_df['clean_sheet_ratio'] = def_df['clean_sheets'] / (def_df['starts'] + 1e-5)\n",
    "\n",
    "# Goal contribution per 90 = (goals + assists) / minutes * 90\n",
    "def_df['goal_contribution_ratio'] = (def_df['goals_scored'] + def_df['assists']) / (def_df['minutes'] + 1e-5) * 90\n",
    "\n",
    "# Expected contribution = xG + xA\n",
    "def_df['expected_contribution'] = def_df['expected_goals'] + def_df['expected_assists']\n",
    "\n",
    "# Defensive impact (scaled): influence + bps + ict_index\n",
    "def_df['defensive_influence'] = def_df[['influence', 'bps', 'ict_index']].sum(axis=1)\n",
    "\n",
    "# Attacking threat score: threat + creativity\n",
    "def_df['attacking_threat'] = def_df['threat'] + def_df['creativity']\n",
    "\n",
    "# Drop rows with NaNs from rolling features\n",
    "def_df = def_df.dropna()\n",
    "\n",
    "# Save engineered data\n",
    "def_df.to_csv(\"fpl_def_data.csv\", index=False)\n",
    "\n",
    "print(\"✅ Feature engineering for DEF complete. New shape:\", def_df.shape)\n"
   ]
  },
  {
   "cell_type": "code",
   "execution_count": 2,
   "id": "1c723ac1",
   "metadata": {},
   "outputs": [
    {
     "data": {
      "text/plain": [
       "season                        0\n",
       "gameweek                      0\n",
       "name                          0\n",
       "position                      0\n",
       "team                          0\n",
       "xP                            0\n",
       "assists                       0\n",
       "bonus                         0\n",
       "bps                           0\n",
       "clean_sheets                  0\n",
       "creativity                    0\n",
       "element                       0\n",
       "fixture                       0\n",
       "goals_conceded                0\n",
       "goals_scored                  0\n",
       "ict_index                     0\n",
       "influence                     0\n",
       "kickoff_time                  0\n",
       "minutes                       0\n",
       "opponent_team                 0\n",
       "own_goals                     0\n",
       "penalties_missed              0\n",
       "penalties_saved               0\n",
       "red_cards                     0\n",
       "round                         0\n",
       "saves                         0\n",
       "selected                      0\n",
       "team_a_score                  0\n",
       "team_h_score                  0\n",
       "threat                        0\n",
       "total_points                  0\n",
       "transfers_balance             0\n",
       "transfers_in                  0\n",
       "transfers_out                 0\n",
       "value                         0\n",
       "was_home                      0\n",
       "yellow_cards                  0\n",
       "expected_assists              0\n",
       "expected_goal_involvements    0\n",
       "expected_goals                0\n",
       "expected_goals_conceded       0\n",
       "starts                        0\n",
       "future_points                 0\n",
       "total_points_last_3           0\n",
       "minutes_last_3                0\n",
       "clean_sheets_last_3           0\n",
       "goals_scored_last_3           0\n",
       "assists_last_3                0\n",
       "clean_sheet_ratio             0\n",
       "goal_contribution_ratio       0\n",
       "expected_contribution         0\n",
       "defensive_influence           0\n",
       "attacking_threat              0\n",
       "dtype: int64"
      ]
     },
     "execution_count": 2,
     "metadata": {},
     "output_type": "execute_result"
    }
   ],
   "source": [
    "def_df.isna().sum()"
   ]
  },
  {
   "cell_type": "code",
   "execution_count": 5,
   "id": "ab64a235",
   "metadata": {},
   "outputs": [
    {
     "name": "stderr",
     "output_type": "stream",
     "text": [
      "C:\\Users\\shaunak\\AppData\\Local\\Temp\\ipykernel_22476\\2059200224.py:50: UserWarning: Glyph 128202 (\\N{BAR CHART}) missing from current font.\n",
      "  plt.tight_layout()\n",
      "C:\\Users\\shaunak\\anaconda3\\Lib\\site-packages\\IPython\\core\\pylabtools.py:152: UserWarning: Glyph 128202 (\\N{BAR CHART}) missing from current font.\n",
      "  fig.canvas.print_figure(bytes_io, **kw)\n"
     ]
    },
    {
     "data": {
      "image/png": "[encoded data removed]",
      "text/plain": [
       "<Figure size 1000x600 with 1 Axes>"
      ]
     },
     "metadata": {},
     "output_type": "display_data"
    }
   ],
   "source": [
    "import pandas as pd\n",
    "from sklearn.ensemble import RandomForestRegressor\n",
    "from sklearn.model_selection import train_test_split\n",
    "import matplotlib.pyplot as plt\n",
    "import seaborn as sns\n",
    "\n",
    "# 🔹 Load engineered DEF dataset\n",
    "def_df = pd.read_csv(\"fpl_def_feature_engineered.csv\")\n",
    "\n",
    "# 🔹 Drop non-numeric and unneeded columns\n",
    "drop_cols = ['season', 'name', 'position', 'team', 'kickoff_time']\n",
    "def_df = def_df.drop(columns=drop_cols)\n",
    "\n",
    "# 🔹 Drop NaNs (from rolling features)\n",
    "def_df = def_df.dropna()\n",
    "\n",
    "# 🔹 Split features and target\n",
    "X = def_df.drop(columns=['future_points'])\n",
    "y = def_df['future_points']\n",
    "\n",
    "# 🔹 Time-aware split: simulate season progression\n",
    "X_train = X[X['gameweek'] <= 30]\n",
    "X_test = X[X['gameweek'] > 30]\n",
    "y_train = y[X['gameweek'] <= 30]\n",
    "y_test = y[X['gameweek'] > 30]\n",
    "\n",
    "# Optional: drop 'gameweek' now (not needed as feature)\n",
    "X_train = X_train.drop(columns=['gameweek'])\n",
    "X_test = X_test.drop(columns=['gameweek'])\n",
    "\n",
    "# 🔹 Fit HistGradientBoostingRegressor\n",
    "model = RandomForestRegressor(random_state=42)\n",
    "model.fit(X_train, y_train)\n",
    "\n",
    "# 🔹 Get feature importances\n",
    "importances = model.feature_importances_\n",
    "feature_names = X_train.columns\n",
    "\n",
    "# 🔹 Create DataFrame of importance\n",
    "importance_df = pd.DataFrame({\n",
    "    'Feature': feature_names,\n",
    "    'Importance': importances\n",
    "}).sort_values(by='Importance', ascending=False)\n",
    "\n",
    "\n",
    "# 🔹 Plot top 15 features\n",
    "plt.figure(figsize=(10, 6))\n",
    "sns.barplot(data=importance_df.head(15), x='Importance', y='Feature', palette='viridis')\n",
    "plt.title('📊 Feature Importance for DEF (Predicting Future Points)')\n",
    "plt.tight_layout()\n",
    "plt.show()\n"
   ]
  },
  {
   "cell_type": "code",
   "execution_count": 7,
   "id": "84ece57c",
   "metadata": {},
   "outputs": [
    {
     "data": {
      "text/plain": [
       "future_points                 1.000000\n",
       "minutes                       0.450682\n",
       "defensive_influence           0.401933\n",
       "starts                        0.393379\n",
       "bps                           0.381970\n",
       "influence                     0.378894\n",
       "ict_index                     0.374207\n",
       "xP                            0.362570\n",
       "total_points                  0.314057\n",
       "minutes_last_3                0.311200\n",
       "attacking_threat              0.302790\n",
       "expected_goals_conceded       0.300935\n",
       "goals_conceded                0.277780\n",
       "value                         0.273498\n",
       "creativity                    0.261334\n",
       "total_points_last_3           0.253685\n",
       "selected                      0.248720\n",
       "threat                        0.228114\n",
       "expected_contribution         0.226655\n",
       "expected_goal_involvements    0.226102\n",
       "transfers_in                  0.208969\n",
       "clean_sheets                  0.208852\n",
       "expected_assists              0.196669\n",
       "clean_sheets_last_3           0.186758\n",
       "bonus                         0.151860\n",
       "expected_goals                0.149781\n",
       "yellow_cards                  0.137484\n",
       "assists                       0.118702\n",
       "assists_last_3                0.109926\n",
       "transfers_out                 0.109503\n",
       "goals_scored                  0.091864\n",
       "transfers_balance             0.090121\n",
       "goals_scored_last_3           0.076402\n",
       "clean_sheet_ratio             0.076204\n",
       "goal_contribution_ratio       0.037395\n",
       "own_goals                     0.036915\n",
       "team_h_score                  0.008503\n",
       "opponent_team                -0.000517\n",
       "team_a_score                 -0.008223\n",
       "was_home                     -0.016475\n",
       "red_cards                    -0.020689\n",
       "round                        -0.028674\n",
       "gameweek                     -0.028674\n",
       "fixture                      -0.029755\n",
       "element                      -0.092400\n",
       "penalties_missed                   NaN\n",
       "penalties_saved                    NaN\n",
       "saves                              NaN\n",
       "Name: future_points, dtype: float64"
      ]
     },
     "execution_count": 7,
     "metadata": {},
     "output_type": "execute_result"
    }
   ],
   "source": [
    "def_df.corr(numeric_only=True)['future_points'].sort_values(ascending=False)"
   ]
  },
  {
   "cell_type": "code",
   "execution_count": 3,
   "id": "baf0d626",
   "metadata": {},
   "outputs": [],
   "source": [
    "def_df.drop(['fixture','element','round','team_a_score','team_h_score','penalties_missed','penalties_saved','saves','red_cards','was_home','opponent_team','own_goals','goal_contribution_ratio'],axis=1,inplace=True)"
   ]
  },
  {
   "cell_type": "code",
   "execution_count": 4,
   "id": "b8ebcef1",
   "metadata": {},
   "outputs": [
    {
     "data": {
      "text/plain": [
       "Index(['season', 'gameweek', 'name', 'position', 'team', 'xP', 'assists',\n",
       "       'bonus', 'bps', 'clean_sheets', 'creativity', 'goals_conceded',\n",
       "       'goals_scored', 'ict_index', 'influence', 'kickoff_time', 'minutes',\n",
       "       'selected', 'threat', 'total_points', 'transfers_balance',\n",
       "       'transfers_in', 'transfers_out', 'value', 'yellow_cards',\n",
       "       'expected_assists', 'expected_goal_involvements', 'expected_goals',\n",
       "       'expected_goals_conceded', 'starts', 'future_points',\n",
       "       'total_points_last_3', 'minutes_last_3', 'clean_sheets_last_3',\n",
       "       'goals_scored_last_3', 'assists_last_3', 'clean_sheet_ratio',\n",
       "       'expected_contribution', 'defensive_influence', 'attacking_threat'],\n",
       "      dtype='object')"
      ]
     },
     "execution_count": 4,
     "metadata": {},
     "output_type": "execute_result"
    }
   ],
   "source": [
    "def_df.columns"
   ]
  },
  {
   "cell_type": "code",
   "execution_count": 5,
   "id": "647e83a1",
   "metadata": {},
   "outputs": [],
   "source": [
    "def_df.to_csv('fpl_def_data.csv',index=False)"
   ]
  },
  {
   "cell_type": "markdown",
   "id": "dd14465b",
   "metadata": {},
   "source": [
    "# Model"
   ]
  },
  {
   "cell_type": "code",
   "execution_count": 1,
   "id": "00598459",
   "metadata": {},
   "outputs": [],
   "source": [
    "import pandas as pd\n",
    "df=pd.read_csv('fpl_def_data.csv')"
   ]
  },
  {
   "cell_type": "code",
   "execution_count": 2,
   "id": "a610310b",
   "metadata": {},
   "outputs": [
    {
     "data": {
      "text/plain": [
       "season                        0\n",
       "gameweek                      0\n",
       "name                          0\n",
       "position                      0\n",
       "team                          0\n",
       "xP                            0\n",
       "assists                       0\n",
       "bonus                         0\n",
       "bps                           0\n",
       "clean_sheets                  0\n",
       "creativity                    0\n",
       "goals_conceded                0\n",
       "goals_scored                  0\n",
       "ict_index                     0\n",
       "influence                     0\n",
       "kickoff_time                  0\n",
       "minutes                       0\n",
       "selected                      0\n",
       "threat                        0\n",
       "total_points                  0\n",
       "transfers_balance             0\n",
       "transfers_in                  0\n",
       "transfers_out                 0\n",
       "value                         0\n",
       "yellow_cards                  0\n",
       "expected_assists              0\n",
       "expected_goal_involvements    0\n",
       "expected_goals                0\n",
       "expected_goals_conceded       0\n",
       "starts                        0\n",
       "future_points                 0\n",
       "total_points_last_3           0\n",
       "minutes_last_3                0\n",
       "clean_sheets_last_3           0\n",
       "goals_scored_last_3           0\n",
       "assists_last_3                0\n",
       "clean_sheet_ratio             0\n",
       "expected_contribution         0\n",
       "defensive_influence           0\n",
       "attacking_threat              0\n",
       "dtype: int64"
      ]
     },
     "execution_count": 2,
     "metadata": {},
     "output_type": "execute_result"
    }
   ],
   "source": [
    "df.isna().sum()"
   ]
  },
  {
   "cell_type": "code",
   "execution_count": 9,
   "id": "d7c6be99",
   "metadata": {},
   "outputs": [
    {
     "data": {
      "text/plain": [
       "future_points                 1.000000\n",
       "minutes                       0.450682\n",
       "defensive_influence           0.401933\n",
       "starts                        0.393379\n",
       "bps                           0.381970\n",
       "influence                     0.378894\n",
       "ict_index                     0.374207\n",
       "xP                            0.362570\n",
       "total_points                  0.314057\n",
       "minutes_last_3                0.311200\n",
       "attacking_threat              0.302790\n",
       "expected_goals_conceded       0.300935\n",
       "goals_conceded                0.277780\n",
       "value                         0.273498\n",
       "creativity                    0.261334\n",
       "total_points_last_3           0.253685\n",
       "selected                      0.248720\n",
       "threat                        0.228114\n",
       "expected_contribution         0.226655\n",
       "expected_goal_involvements    0.226102\n",
       "transfers_in                  0.208969\n",
       "clean_sheets                  0.208852\n",
       "expected_assists              0.196669\n",
       "clean_sheets_last_3           0.186758\n",
       "bonus                         0.151860\n",
       "expected_goals                0.149781\n",
       "yellow_cards                  0.137484\n",
       "assists                       0.118702\n",
       "assists_last_3                0.109926\n",
       "transfers_out                 0.109503\n",
       "goals_scored                  0.091864\n",
       "transfers_balance             0.090121\n",
       "goals_scored_last_3           0.076402\n",
       "clean_sheet_ratio             0.076204\n",
       "gameweek                     -0.028674\n",
       "Name: future_points, dtype: float64"
      ]
     },
     "execution_count": 9,
     "metadata": {},
     "output_type": "execute_result"
    }
   ],
   "source": [
    "df.corr(numeric_only=True)['future_points'].sort_values(ascending=False)"
   ]
  },
  {
   "cell_type": "code",
   "execution_count": 3,
   "id": "e06d1063",
   "metadata": {},
   "outputs": [
    {
     "name": "stdout",
     "output_type": "stream",
     "text": [
      "[LightGBM] [Info] Auto-choosing row-wise multi-threading, the overhead of testing was 0.002038 seconds.\n",
      "You can set `force_row_wise=true` to remove the overhead.\n",
      "And if memory is not enough, you can set `force_col_wise=true`.\n",
      "[LightGBM] [Info] Total Bins 3507\n",
      "[LightGBM] [Info] Number of data points in the train set: 19304, number of used features: 26\n",
      "[LightGBM] [Info] Start training from score 1.054963\n",
      "📊 Model Performance Comparison:\n",
      "            Model    MAE    MSE     R²\n",
      "         LightGBM 0.9939 3.8399 0.2142\n",
      "     HistGradient 0.9974 3.7592 0.2307\n",
      "         CatBoost 1.0057 3.9065 0.2005\n",
      "          XGBoost 1.0151 3.9034 0.2012\n",
      "Linear Regression 1.0610 3.8043 0.2215\n",
      "    Random Forest 1.1178 4.0278 0.1757\n"
     ]
    }
   ],
   "source": [
    "import pandas as pd\n",
    "import numpy as np\n",
    "from sklearn.linear_model import LinearRegression\n",
    "from sklearn.ensemble import RandomForestRegressor\n",
    "from sklearn.metrics import mean_absolute_error, mean_squared_error, r2_score\n",
    "from sklearn.ensemble import HistGradientBoostingRegressor\n",
    "\n",
    "from xgboost import XGBRegressor\n",
    "from lightgbm import LGBMRegressor\n",
    "from catboost import CatBoostRegressor\n",
    "\n",
    "\n",
    "# 🔹 Drop non-model-useful columns\n",
    "df = df.drop(columns=['season', 'name', 'position', 'team', 'kickoff_time','yellow_cards','assists','assists_last_3','transfers_out','goals_scored','transfers_balance','goals_scored_last_3','clean_sheet_ratio'],axis=1)\n",
    "\n",
    "# 🔹 Drop NaNs due to rolling features\n",
    "df = df.dropna()\n",
    "\n",
    "# 🔹 Sort by time (so future rows don't leak into training)\n",
    "df = df.sort_values(by=['gameweek']).reset_index(drop=True)\n",
    "\n",
    "# ✅ Time-based split: train on GWs 1–30, test on GWs 31–38\n",
    "train_df = df[df['gameweek'] <= 30]\n",
    "test_df  = df[df['gameweek'] > 30]\n",
    "\n",
    "# 🔹 Split into features and target\n",
    "X_train = train_df.drop(columns=['future_points'])\n",
    "y_train = train_df['future_points']\n",
    "\n",
    "X_test = test_df.drop(columns=['future_points'])\n",
    "y_test = test_df['future_points']\n",
    "\n",
    "\n",
    "models = {\n",
    "    \"Linear Regression\": LinearRegression(),\n",
    "    \"Random Forest\": RandomForestRegressor(n_estimators=100, random_state=42),\n",
    "    \"XGBoost\": XGBRegressor(n_estimators=100, learning_rate=0.1, random_state=42),\n",
    "    \"LightGBM\": LGBMRegressor(n_estimators=100, learning_rate=0.1, random_state=42),\n",
    "    \"CatBoost\": CatBoostRegressor(verbose=0, random_state=42),\n",
    "    \"HistGradient\":HistGradientBoostingRegressor(min_samples_leaf= 50, max_leaf_nodes= 15, max_iter= 150, max_depth= 3, learning_rate= 0.1, l2_regularization= 0.1)\n",
    "}\n",
    "\n",
    "# ===============================\n",
    "# Train & Evaluate\n",
    "# ===============================\n",
    "results = []\n",
    "\n",
    "for name, model in models.items():\n",
    "    model.fit(X_train, y_train)\n",
    "    preds = model.predict(X_test)\n",
    "\n",
    "    mae = mean_absolute_error(y_test, preds)\n",
    "    mse = mean_squared_error(y_test, preds)\n",
    "    r2 = r2_score(y_test, preds)\n",
    "\n",
    "    results.append({\n",
    "        \"Model\": name,\n",
    "        \"MAE\": round(mae, 4),\n",
    "        \"MSE\": round(mse, 4),\n",
    "        \"R²\": round(r2, 4)\n",
    "    })\n",
    "\n",
    "# ===============================\n",
    "# Show Results\n",
    "# ===============================\n",
    "results_df = pd.DataFrame(results).sort_values(by=\"MAE\")\n",
    "print(\"📊 Model Performance Comparison:\")\n",
    "print(results_df.to_string(index=False))\n"
   ]
  },
  {
   "cell_type": "code",
   "execution_count": 4,
   "id": "8d99793d",
   "metadata": {},
   "outputs": [
    {
     "ename": "KeyError",
     "evalue": "\"['season', 'name', 'position', 'team', 'kickoff_time', 'yellow_cards', 'assists', 'assists_last_3', 'transfers_out', 'goals_scored', 'transfers_balance', 'goals_scored_last_3', 'clean_sheet_ratio'] not found in axis\"",
     "output_type": "error",
     "traceback": [
      "\u001b[1;31m---------------------------------------------------------------------------\u001b[0m",
      "\u001b[1;31mKeyError\u001b[0m                                  Traceback (most recent call last)",
      "Cell \u001b[1;32mIn[4], line 14\u001b[0m\n\u001b[0;32m     10\u001b[0m \u001b[38;5;28;01mfrom\u001b[39;00m \u001b[38;5;21;01mcatboost\u001b[39;00m \u001b[38;5;28;01mimport\u001b[39;00m CatBoostRegressor\n\u001b[0;32m     13\u001b[0m \u001b[38;5;66;03m# 🔹 Drop non-model-useful columns\u001b[39;00m\n\u001b[1;32m---> 14\u001b[0m df \u001b[38;5;241m=\u001b[39m df\u001b[38;5;241m.\u001b[39mdrop(columns\u001b[38;5;241m=\u001b[39m[\u001b[38;5;124m'\u001b[39m\u001b[38;5;124mseason\u001b[39m\u001b[38;5;124m'\u001b[39m, \u001b[38;5;124m'\u001b[39m\u001b[38;5;124mname\u001b[39m\u001b[38;5;124m'\u001b[39m, \u001b[38;5;124m'\u001b[39m\u001b[38;5;124mposition\u001b[39m\u001b[38;5;124m'\u001b[39m, \u001b[38;5;124m'\u001b[39m\u001b[38;5;124mteam\u001b[39m\u001b[38;5;124m'\u001b[39m, \u001b[38;5;124m'\u001b[39m\u001b[38;5;124mkickoff_time\u001b[39m\u001b[38;5;124m'\u001b[39m,\u001b[38;5;124m'\u001b[39m\u001b[38;5;124myellow_cards\u001b[39m\u001b[38;5;124m'\u001b[39m,\u001b[38;5;124m'\u001b[39m\u001b[38;5;124massists\u001b[39m\u001b[38;5;124m'\u001b[39m,\u001b[38;5;124m'\u001b[39m\u001b[38;5;124massists_last_3\u001b[39m\u001b[38;5;124m'\u001b[39m,\u001b[38;5;124m'\u001b[39m\u001b[38;5;124mtransfers_out\u001b[39m\u001b[38;5;124m'\u001b[39m,\n\u001b[0;32m     15\u001b[0m                       \u001b[38;5;124m'\u001b[39m\u001b[38;5;124mgoals_scored\u001b[39m\u001b[38;5;124m'\u001b[39m,\u001b[38;5;124m'\u001b[39m\u001b[38;5;124mtransfers_balance\u001b[39m\u001b[38;5;124m'\u001b[39m,\u001b[38;5;124m'\u001b[39m\u001b[38;5;124mgoals_scored_last_3\u001b[39m\u001b[38;5;124m'\u001b[39m,\u001b[38;5;124m'\u001b[39m\u001b[38;5;124mclean_sheet_ratio\u001b[39m\u001b[38;5;124m'\u001b[39m,\u001b[38;5;124m'\u001b[39m\u001b[38;5;124mtransfers_in\u001b[39m\u001b[38;5;124m'\u001b[39m,\u001b[38;5;124m'\u001b[39m\u001b[38;5;124mclean_sheets\u001b[39m\u001b[38;5;124m'\u001b[39m,\n\u001b[0;32m     16\u001b[0m                      \u001b[38;5;124m'\u001b[39m\u001b[38;5;124mexpected_assists\u001b[39m\u001b[38;5;124m'\u001b[39m,\u001b[38;5;124m'\u001b[39m\u001b[38;5;124mbonus\u001b[39m\u001b[38;5;124m'\u001b[39m,\u001b[38;5;124m'\u001b[39m\u001b[38;5;124mclean_sheets_last_3\u001b[39m\u001b[38;5;124m'\u001b[39m],axis\u001b[38;5;241m=\u001b[39m\u001b[38;5;241m1\u001b[39m)\n\u001b[0;32m     18\u001b[0m \u001b[38;5;66;03m# 🔹 Drop NaNs due to rolling features\u001b[39;00m\n\u001b[0;32m     19\u001b[0m df \u001b[38;5;241m=\u001b[39m df\u001b[38;5;241m.\u001b[39mdropna()\n",
      "File \u001b[1;32m~\\anaconda3\\Lib\\site-packages\\pandas\\core\\frame.py:5258\u001b[0m, in \u001b[0;36mDataFrame.drop\u001b[1;34m(self, labels, axis, index, columns, level, inplace, errors)\u001b[0m\n\u001b[0;32m   5110\u001b[0m \u001b[38;5;28;01mdef\u001b[39;00m \u001b[38;5;21mdrop\u001b[39m(\n\u001b[0;32m   5111\u001b[0m     \u001b[38;5;28mself\u001b[39m,\n\u001b[0;32m   5112\u001b[0m     labels: IndexLabel \u001b[38;5;241m=\u001b[39m \u001b[38;5;28;01mNone\u001b[39;00m,\n\u001b[1;32m   (...)\u001b[0m\n\u001b[0;32m   5119\u001b[0m     errors: IgnoreRaise \u001b[38;5;241m=\u001b[39m \u001b[38;5;124m\"\u001b[39m\u001b[38;5;124mraise\u001b[39m\u001b[38;5;124m\"\u001b[39m,\n\u001b[0;32m   5120\u001b[0m ) \u001b[38;5;241m-\u001b[39m\u001b[38;5;241m>\u001b[39m DataFrame \u001b[38;5;241m|\u001b[39m \u001b[38;5;28;01mNone\u001b[39;00m:\n\u001b[0;32m   5121\u001b[0m \u001b[38;5;250m    \u001b[39m\u001b[38;5;124;03m\"\"\"\u001b[39;00m\n\u001b[0;32m   5122\u001b[0m \u001b[38;5;124;03m    Drop specified labels from rows or columns.\u001b[39;00m\n\u001b[0;32m   5123\u001b[0m \n\u001b[1;32m   (...)\u001b[0m\n\u001b[0;32m   5256\u001b[0m \u001b[38;5;124;03m            weight  1.0     0.8\u001b[39;00m\n\u001b[0;32m   5257\u001b[0m \u001b[38;5;124;03m    \"\"\"\u001b[39;00m\n\u001b[1;32m-> 5258\u001b[0m     \u001b[38;5;28;01mreturn\u001b[39;00m \u001b[38;5;28msuper\u001b[39m()\u001b[38;5;241m.\u001b[39mdrop(\n\u001b[0;32m   5259\u001b[0m         labels\u001b[38;5;241m=\u001b[39mlabels,\n\u001b[0;32m   5260\u001b[0m         axis\u001b[38;5;241m=\u001b[39maxis,\n\u001b[0;32m   5261\u001b[0m         index\u001b[38;5;241m=\u001b[39mindex,\n\u001b[0;32m   5262\u001b[0m         columns\u001b[38;5;241m=\u001b[39mcolumns,\n\u001b[0;32m   5263\u001b[0m         level\u001b[38;5;241m=\u001b[39mlevel,\n\u001b[0;32m   5264\u001b[0m         inplace\u001b[38;5;241m=\u001b[39minplace,\n\u001b[0;32m   5265\u001b[0m         errors\u001b[38;5;241m=\u001b[39merrors,\n\u001b[0;32m   5266\u001b[0m     )\n",
      "File \u001b[1;32m~\\anaconda3\\Lib\\site-packages\\pandas\\core\\generic.py:4549\u001b[0m, in \u001b[0;36mNDFrame.drop\u001b[1;34m(self, labels, axis, index, columns, level, inplace, errors)\u001b[0m\n\u001b[0;32m   4547\u001b[0m \u001b[38;5;28;01mfor\u001b[39;00m axis, labels \u001b[38;5;129;01min\u001b[39;00m axes\u001b[38;5;241m.\u001b[39mitems():\n\u001b[0;32m   4548\u001b[0m     \u001b[38;5;28;01mif\u001b[39;00m labels \u001b[38;5;129;01mis\u001b[39;00m \u001b[38;5;129;01mnot\u001b[39;00m \u001b[38;5;28;01mNone\u001b[39;00m:\n\u001b[1;32m-> 4549\u001b[0m         obj \u001b[38;5;241m=\u001b[39m obj\u001b[38;5;241m.\u001b[39m_drop_axis(labels, axis, level\u001b[38;5;241m=\u001b[39mlevel, errors\u001b[38;5;241m=\u001b[39merrors)\n\u001b[0;32m   4551\u001b[0m \u001b[38;5;28;01mif\u001b[39;00m inplace:\n\u001b[0;32m   4552\u001b[0m     \u001b[38;5;28mself\u001b[39m\u001b[38;5;241m.\u001b[39m_update_inplace(obj)\n",
      "File \u001b[1;32m~\\anaconda3\\Lib\\site-packages\\pandas\\core\\generic.py:4591\u001b[0m, in \u001b[0;36mNDFrame._drop_axis\u001b[1;34m(self, labels, axis, level, errors, only_slice)\u001b[0m\n\u001b[0;32m   4589\u001b[0m         new_axis \u001b[38;5;241m=\u001b[39m axis\u001b[38;5;241m.\u001b[39mdrop(labels, level\u001b[38;5;241m=\u001b[39mlevel, errors\u001b[38;5;241m=\u001b[39merrors)\n\u001b[0;32m   4590\u001b[0m     \u001b[38;5;28;01melse\u001b[39;00m:\n\u001b[1;32m-> 4591\u001b[0m         new_axis \u001b[38;5;241m=\u001b[39m axis\u001b[38;5;241m.\u001b[39mdrop(labels, errors\u001b[38;5;241m=\u001b[39merrors)\n\u001b[0;32m   4592\u001b[0m     indexer \u001b[38;5;241m=\u001b[39m axis\u001b[38;5;241m.\u001b[39mget_indexer(new_axis)\n\u001b[0;32m   4594\u001b[0m \u001b[38;5;66;03m# Case for non-unique axis\u001b[39;00m\n\u001b[0;32m   4595\u001b[0m \u001b[38;5;28;01melse\u001b[39;00m:\n",
      "File \u001b[1;32m~\\anaconda3\\Lib\\site-packages\\pandas\\core\\indexes\\base.py:6699\u001b[0m, in \u001b[0;36mIndex.drop\u001b[1;34m(self, labels, errors)\u001b[0m\n\u001b[0;32m   6697\u001b[0m \u001b[38;5;28;01mif\u001b[39;00m mask\u001b[38;5;241m.\u001b[39many():\n\u001b[0;32m   6698\u001b[0m     \u001b[38;5;28;01mif\u001b[39;00m errors \u001b[38;5;241m!=\u001b[39m \u001b[38;5;124m\"\u001b[39m\u001b[38;5;124mignore\u001b[39m\u001b[38;5;124m\"\u001b[39m:\n\u001b[1;32m-> 6699\u001b[0m         \u001b[38;5;28;01mraise\u001b[39;00m \u001b[38;5;167;01mKeyError\u001b[39;00m(\u001b[38;5;124mf\u001b[39m\u001b[38;5;124m\"\u001b[39m\u001b[38;5;132;01m{\u001b[39;00m\u001b[38;5;28mlist\u001b[39m(labels[mask])\u001b[38;5;132;01m}\u001b[39;00m\u001b[38;5;124m not found in axis\u001b[39m\u001b[38;5;124m\"\u001b[39m)\n\u001b[0;32m   6700\u001b[0m     indexer \u001b[38;5;241m=\u001b[39m indexer[\u001b[38;5;241m~\u001b[39mmask]\n\u001b[0;32m   6701\u001b[0m \u001b[38;5;28;01mreturn\u001b[39;00m \u001b[38;5;28mself\u001b[39m\u001b[38;5;241m.\u001b[39mdelete(indexer)\n",
      "\u001b[1;31mKeyError\u001b[0m: \"['season', 'name', 'position', 'team', 'kickoff_time', 'yellow_cards', 'assists', 'assists_last_3', 'transfers_out', 'goals_scored', 'transfers_balance', 'goals_scored_last_3', 'clean_sheet_ratio'] not found in axis\""
     ]
    }
   ],
   "source": [
    "import pandas as pd\n",
    "import numpy as np\n",
    "from sklearn.linear_model import LinearRegression\n",
    "from sklearn.ensemble import RandomForestRegressor\n",
    "from sklearn.metrics import mean_absolute_error, mean_squared_error, r2_score\n",
    "from sklearn.ensemble import HistGradientBoostingRegressor\n",
    "\n",
    "from xgboost import XGBRegressor\n",
    "from lightgbm import LGBMRegressor\n",
    "from catboost import CatBoostRegressor\n",
    "\n",
    "\n",
    "# 🔹 Drop non-model-useful columns\n",
    "df = df.drop(columns=['season', 'name', 'position', 'team', 'kickoff_time','yellow_cards','assists','assists_last_3',\n",
    "                      'goals_scored','goals_scored_last_3',\n",
    "                     'expected_assists','bonus','clean_sheets_last_3'],axis=1)\n",
    "\n",
    "# 🔹 Drop NaNs due to rolling features\n",
    "df = df.dropna()\n",
    "\n",
    "# 🔹 Sort by time (so future rows don't leak into training)\n",
    "df = df.sort_values(by=['gameweek']).reset_index(drop=True)\n",
    "\n",
    "# ✅ Time-based split: train on GWs 1–30, test on GWs 31–38\n",
    "train_df = df[df['gameweek'] <= 30]\n",
    "test_df  = df[df['gameweek'] > 30]\n",
    "\n",
    "# 🔹 Split into features and target\n",
    "X_train = train_df.drop(columns=['future_points'])\n",
    "y_train = train_df['future_points']\n",
    "\n",
    "X_test = test_df.drop(columns=['future_points'])\n",
    "y_test = test_df['future_points']\n",
    "\n",
    "\n",
    "models = {\n",
    "    \"Linear Regression\": LinearRegression(),\n",
    "    \"Random Forest\": RandomForestRegressor(n_estimators=100, random_state=42),\n",
    "    \"XGBoost\": XGBRegressor(n_estimators=100, learning_rate=0.1, random_state=42),\n",
    "    \"LightGBM\": LGBMRegressor(n_estimators=100, learning_rate=0.1, random_state=42),\n",
    "    \"CatBoost\": CatBoostRegressor(verbose=0, random_state=42),\n",
    "    \"HistGradient\":HistGradientBoostingRegressor(min_samples_leaf= 50, max_leaf_nodes= 15, max_iter= 150, max_depth= 3, learning_rate= 0.1, l2_regularization= 0.1)\n",
    "}\n",
    "\n",
    "# ===============================\n",
    "# Train & Evaluate\n",
    "# ===============================\n",
    "results = []\n",
    "\n",
    "for name, model in models.items():\n",
    "    model.fit(X_train, y_train)\n",
    "    preds = model.predict(X_test)\n",
    "\n",
    "    mae = mean_absolute_error(y_test, preds)\n",
    "    mse = mean_squared_error(y_test, preds)\n",
    "    r2 = r2_score(y_test, preds)\n",
    "\n",
    "    results.append({\n",
    "        \"Model\": name,\n",
    "        \"MAE\": round(mae, 4),\n",
    "        \"MSE\": round(mse, 4),\n",
    "        \"R²\": round(r2, 4)\n",
    "    })\n",
    "\n",
    "# ===============================\n",
    "# Show Results\n",
    "# ===============================\n",
    "results_df = pd.DataFrame(results).sort_values(by=\"MAE\")\n",
    "print(\"📊 Model Performance Comparison:\")\n",
    "print(results_df.to_string(index=False))"
   ]
  },
  {
   "cell_type": "code",
   "execution_count": 1,
   "id": "25eef6d1",
   "metadata": {},
   "outputs": [
    {
     "name": "stdout",
     "output_type": "stream",
     "text": [
      "\n",
      "📊 Test MAE: 0.9989\n",
      "📈 Test R² Score: 0.2331\n"
     ]
    }
   ],
   "source": [
    "import pandas as pd\n",
    "import numpy as np\n",
    "from sklearn.linear_model import LinearRegression\n",
    "from sklearn.ensemble import RandomForestRegressor\n",
    "from sklearn.metrics import mean_absolute_error, mean_squared_error, r2_score\n",
    "from sklearn.ensemble import HistGradientBoostingRegressor\n",
    "\n",
    "from xgboost import XGBRegressor\n",
    "from lightgbm import LGBMRegressor\n",
    "from catboost import CatBoostRegressor\n",
    "df=pd.read_csv('fpl_def_data.csv')\n",
    "\n",
    "# 🔹 Drop non-model-useful columns\n",
    "df = df.drop(columns=['season', 'name', 'position', 'team', 'kickoff_time','yellow_cards','assists','assists_last_3',\n",
    "                      'goals_scored','goals_scored_last_3',\n",
    "                     'expected_assists','bonus','clean_sheets_last_3'],axis=1)\n",
    "\n",
    "# 🔹 Drop NaNs due to rolling features\n",
    "df = df.dropna()\n",
    "\n",
    "# 🔹 Sort by time (so future rows don't leak into training)\n",
    "df = df.sort_values(by=['gameweek']).reset_index(drop=True)\n",
    "\n",
    "# ✅ Time-based split: train on GWs 1–30, test on GWs 31–38\n",
    "train_df = df[df['gameweek'] <= 30]\n",
    "test_df  = df[df['gameweek'] > 30]\n",
    "\n",
    "# 🔹 Split into features and target\n",
    "X_train = train_df.drop(columns=['future_points'])\n",
    "y_train = train_df['future_points']\n",
    "\n",
    "X_test = test_df.drop(columns=['future_points'])\n",
    "y_test = test_df['future_points']\n",
    "\n",
    "from sklearn.model_selection import RandomizedSearchCV\n",
    "\n",
    "# Define model\n",
    "model = HistGradientBoostingRegressor(random_state=42,min_samples_leaf= 50, max_leaf_nodes= 15, max_iter= 150, max_depth= 3, learning_rate= 0.1, l2_regularization= 0.1)\n",
    "\n",
    "# Fit on training data only\n",
    "model.fit(X_train, y_train)\n",
    "\n",
    "# Predict on test set\n",
    "y_pred = model.predict(X_test)\n",
    "\n",
    "# Evaluate\n",
    "mae = mean_absolute_error(y_test, y_pred)\n",
    "r2 = r2_score(y_test, y_pred)\n",
    "\n",
    "print(f\"\\n📊 Test MAE: {mae:.4f}\")\n",
    "print(f\"📈 Test R² Score: {r2:.4f}\")\n"
   ]
  },
  {
   "cell_type": "code",
   "execution_count": 4,
   "id": "9a48b51e",
   "metadata": {},
   "outputs": [],
   "source": [
    "#Best model found to be histgradient with 0.24 r2 Score\n",
    "#Best parameters :min_samples_leaf= 50, max_leaf_nodes= 15, max_iter= 150, max_depth= 3, learning_rate= 0.1, l2_regularization= 0.1"
   ]
  },
  {
   "cell_type": "code",
   "execution_count": 2,
   "id": "3fa09d03",
   "metadata": {},
   "outputs": [
    {
     "data": {
      "text/plain": [
       "['def_model.pkl']"
      ]
     },
     "execution_count": 2,
     "metadata": {},
     "output_type": "execute_result"
    }
   ],
   "source": [
    "import joblib\n",
    "joblib.dump(model,'def_model.pkl')"
   ]
  },
  {
   "cell_type": "code",
   "execution_count": null,
   "id": "a8778aa7",
   "metadata": {},
   "outputs": [],
   "source": []
  }
 ],
 "metadata": {
  "kernelspec": {
   "display_name": "Python 3 (ipykernel)",
   "language": "python",
   "name": "python3"
  },
  "language_info": {
   "codemirror_mode": {
    "name": "ipython",
    "version": 3
   },
   "file_extension": ".py",
   "mimetype": "text/x-python",
   "name": "python",
   "nbconvert_exporter": "python",
   "pygments_lexer": "ipython3",
   "version": "3.11.5"
  }
 },
 "nbformat": 4,
 "nbformat_minor": 5
}
